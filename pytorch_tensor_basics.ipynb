{
  "nbformat": 4,
  "nbformat_minor": 0,
  "metadata": {
    "colab": {
      "provenance": [],
      "authorship_tag": "ABX9TyPVnOpqwpPl3AzTL0IQ9+ug",
      "include_colab_link": true
    },
    "kernelspec": {
      "name": "python3",
      "display_name": "Python 3"
    },
    "language_info": {
      "name": "python"
    }
  },
  "cells": [
    {
      "cell_type": "markdown",
      "metadata": {
        "id": "view-in-github",
        "colab_type": "text"
      },
      "source": [
        "<a href=\"https://colab.research.google.com/github/bres/PytorchStudy/blob/main/pytorch_tensor_basics.ipynb\" target=\"_parent\"><img src=\"https://colab.research.google.com/assets/colab-badge.svg\" alt=\"Open In Colab\"/></a>"
      ]
    },
    {
      "cell_type": "code",
      "execution_count": 4,
      "metadata": {
        "id": "tMLmWHk4dQ9M",
        "colab": {
          "base_uri": "https://localhost:8080/"
        },
        "outputId": "a96398dc-7d36-4814-afc5-714297ef45ea"
      },
      "outputs": [
        {
          "output_type": "stream",
          "name": "stdout",
          "text": [
            "tensor([[[2.3778e-14, 0.0000e+00, 2.3168e-14],\n",
            "         [0.0000e+00, 0.0000e+00, 0.0000e+00]],\n",
            "\n",
            "        [[0.0000e+00, 0.0000e+00, 2.3262e-43],\n",
            "         [2.3962e-43, 0.0000e+00, 6.0979e-38]]])\n"
          ]
        }
      ],
      "source": [
        "# Tensors basics\n",
        "import torch\n",
        "\n",
        "#create empty tensor\n",
        "x =torch.empty(2, 2, 3) # 3 dimensions tensor --\n",
        "print(x)"
      ]
    },
    {
      "cell_type": "code",
      "source": [
        "# create a tensor with 2 dimensions with random values\n",
        "x = torch.rand(2, 2)\n",
        "print(x)"
      ],
      "metadata": {
        "colab": {
          "base_uri": "https://localhost:8080/"
        },
        "id": "UdkpuY5WF1ax",
        "outputId": "99a8b67a-38d4-4f4c-8bfc-0fe52d9155c8"
      },
      "execution_count": 5,
      "outputs": [
        {
          "output_type": "stream",
          "name": "stdout",
          "text": [
            "tensor([[0.5397, 0.9463],\n",
            "        [0.9356, 0.9482]])\n"
          ]
        }
      ]
    },
    {
      "cell_type": "code",
      "source": [
        "# create a tensor with zeros\n",
        "x = torch.zeros(2, 2)\n",
        "print(x)"
      ],
      "metadata": {
        "colab": {
          "base_uri": "https://localhost:8080/"
        },
        "id": "o7FxSzXOF5Cl",
        "outputId": "03584fec-a818-4bb6-a762-f66cf319d3c2"
      },
      "execution_count": 6,
      "outputs": [
        {
          "output_type": "stream",
          "name": "stdout",
          "text": [
            "tensor([[0., 0.],\n",
            "        [0., 0.]])\n"
          ]
        }
      ]
    },
    {
      "cell_type": "code",
      "source": [
        "# create a tensor with ones\n",
        "x =torch.ones(2, 2)\n",
        "print(x)"
      ],
      "metadata": {
        "colab": {
          "base_uri": "https://localhost:8080/"
        },
        "id": "M5k6rjvJTeGV",
        "outputId": "ff79ab23-6371-4fe9-af68-bf563ea600d5"
      },
      "execution_count": 7,
      "outputs": [
        {
          "output_type": "stream",
          "name": "stdout",
          "text": [
            "tensor([[1., 1.],\n",
            "        [1., 1.]])\n"
          ]
        }
      ]
    },
    {
      "cell_type": "code",
      "source": [
        "# show data type\n",
        "x = torch.ones(2, 2)\n",
        "print(x.dtype)"
      ],
      "metadata": {
        "colab": {
          "base_uri": "https://localhost:8080/"
        },
        "id": "9HsSIoHzTilm",
        "outputId": "9fb651cb-f15f-4fa5-e342-0fd02ba4a29d"
      },
      "execution_count": 8,
      "outputs": [
        {
          "output_type": "stream",
          "name": "stdout",
          "text": [
            "torch.float32\n"
          ]
        }
      ]
    },
    {
      "cell_type": "code",
      "source": [
        "# change the data type\n",
        "x = torch.ones(2, 2, dtype=torch.int)\n",
        "print(x.dtype)"
      ],
      "metadata": {
        "colab": {
          "base_uri": "https://localhost:8080/"
        },
        "id": "f_20GqYUTvXR",
        "outputId": "185ca928-3787-4104-eb19-7a6c6db8bac8"
      },
      "execution_count": 9,
      "outputs": [
        {
          "output_type": "stream",
          "name": "stdout",
          "text": [
            "torch.int32\n"
          ]
        }
      ]
    },
    {
      "cell_type": "code",
      "source": [
        "# print the size of a tensor\n",
        "x =torch.ones(2, 2)\n",
        "print(x.size())"
      ],
      "metadata": {
        "colab": {
          "base_uri": "https://localhost:8080/"
        },
        "id": "4-bi_DulT5AT",
        "outputId": "77e70f01-1e2f-4899-cea7-9d327fb04e75"
      },
      "execution_count": 10,
      "outputs": [
        {
          "output_type": "stream",
          "name": "stdout",
          "text": [
            "torch.Size([2, 2])\n"
          ]
        }
      ]
    },
    {
      "cell_type": "code",
      "source": [
        "# construct a tensor from data\n",
        "x =torch.tensor((2.5,0.1))\n",
        "print(x)"
      ],
      "metadata": {
        "colab": {
          "base_uri": "https://localhost:8080/"
        },
        "id": "b6RGpc7gUc-n",
        "outputId": "2a79b2a0-c327-450c-a4ad-979dc0fe178f"
      },
      "execution_count": 11,
      "outputs": [
        {
          "output_type": "stream",
          "name": "stdout",
          "text": [
            "tensor([2.5000, 0.1000])\n"
          ]
        }
      ]
    },
    {
      "cell_type": "code",
      "source": [
        "# requires_grad argument\n",
        "# this will tell pytorch that it will need to calculate the gradients for this tensor\n",
        "# later in your optimization steps\n",
        "# i.e this is a variable in your model that you want to optimize\n",
        "x = torch.tensor([5.5,3],requires_grad=True)\n",
        "print(x)"
      ],
      "metadata": {
        "colab": {
          "base_uri": "https://localhost:8080/"
        },
        "id": "yxmp5TzPnUfx",
        "outputId": "d0425575-0a70-42d5-db2f-d0a711115b57"
      },
      "execution_count": 35,
      "outputs": [
        {
          "output_type": "stream",
          "name": "stdout",
          "text": [
            "tensor([5.5000, 3.0000], requires_grad=True)\n"
          ]
        }
      ]
    },
    {
      "cell_type": "markdown",
      "source": [
        "**Operations on Tensors**"
      ],
      "metadata": {
        "id": "Zoi0EdhtnM8J"
      }
    },
    {
      "cell_type": "code",
      "source": [
        "# operations between tensors\n",
        "x =torch.rand(2,2)\n",
        "y= torch.rand(2,2)\n",
        "print(x)\n",
        "print(y)\n",
        "z =x+y\n",
        "print(z)"
      ],
      "metadata": {
        "colab": {
          "base_uri": "https://localhost:8080/"
        },
        "id": "5u29gJugUorN",
        "outputId": "6b9cea0f-1c46-4b2e-afd6-95f3ada02d53"
      },
      "execution_count": 13,
      "outputs": [
        {
          "output_type": "stream",
          "name": "stdout",
          "text": [
            "tensor([[0.3051, 0.0516],\n",
            "        [0.8534, 0.1333]])\n",
            "tensor([[0.5766, 0.1058],\n",
            "        [0.2959, 0.0449]])\n",
            "tensor([[0.8817, 0.1574],\n",
            "        [1.1493, 0.1782]])\n"
          ]
        }
      ]
    },
    {
      "cell_type": "code",
      "source": [
        "# the same thing\n",
        "z =torch.add(x,y)\n",
        "print(z)"
      ],
      "metadata": {
        "colab": {
          "base_uri": "https://localhost:8080/"
        },
        "id": "Yh4G-leJXFwE",
        "outputId": "a3e413f7-87a6-45d5-ab68-2c811afaa7f7"
      },
      "execution_count": 14,
      "outputs": [
        {
          "output_type": "stream",
          "name": "stdout",
          "text": [
            "tensor([[0.8817, 0.1574],\n",
            "        [1.1493, 0.1782]])\n"
          ]
        }
      ]
    },
    {
      "cell_type": "code",
      "source": [
        "# in place addition  operation_ --> in place\n",
        "y.add_(x)\n",
        "print(y)"
      ],
      "metadata": {
        "colab": {
          "base_uri": "https://localhost:8080/"
        },
        "id": "bOLCJELdW-z2",
        "outputId": "c7b6bea9-f00e-4d58-fa44-53aa62550568"
      },
      "execution_count": 15,
      "outputs": [
        {
          "output_type": "stream",
          "name": "stdout",
          "text": [
            "tensor([[0.8817, 0.1574],\n",
            "        [1.1493, 0.1782]])\n"
          ]
        }
      ]
    },
    {
      "cell_type": "code",
      "source": [
        "# subtract tensors\n",
        "z =x-y\n",
        "print(z)"
      ],
      "metadata": {
        "colab": {
          "base_uri": "https://localhost:8080/"
        },
        "id": "MZIeBrxjXYwW",
        "outputId": "f1062ef5-0a36-42e8-c71d-463355ae1445"
      },
      "execution_count": 16,
      "outputs": [
        {
          "output_type": "stream",
          "name": "stdout",
          "text": [
            "tensor([[-0.5766, -0.1058],\n",
            "        [-0.2959, -0.0449]])\n"
          ]
        }
      ]
    },
    {
      "cell_type": "code",
      "source": [
        "# multiplacate tensors\n",
        "z=x*y\n",
        "print(z)"
      ],
      "metadata": {
        "colab": {
          "base_uri": "https://localhost:8080/"
        },
        "id": "-NBjJWgdXsk3",
        "outputId": "c5a29208-9360-4978-a90d-0f76c2a40894"
      },
      "execution_count": 18,
      "outputs": [
        {
          "output_type": "stream",
          "name": "stdout",
          "text": [
            "tensor([[0.2690, 0.0081],\n",
            "        [0.9808, 0.0238]])\n"
          ]
        }
      ]
    },
    {
      "cell_type": "code",
      "source": [
        "# divide tensors\n",
        "z =x /y\n",
        "print(z)"
      ],
      "metadata": {
        "colab": {
          "base_uri": "https://localhost:8080/"
        },
        "id": "bcWnseidXzXf",
        "outputId": "afe97024-0115-49d9-f274-7162f8724d12"
      },
      "execution_count": 19,
      "outputs": [
        {
          "output_type": "stream",
          "name": "stdout",
          "text": [
            "tensor([[0.3460, 0.3279],\n",
            "        [0.7425, 0.7480]])\n"
          ]
        }
      ]
    },
    {
      "cell_type": "code",
      "source": [
        "# slicing operations\n",
        "x = torch.rand(5,3)\n",
        "print(x)\n",
        "print(\"\")\n",
        "# get all rows but the column zero\n",
        "print(x[:,0])\n",
        "print(\"\")\n",
        "# get row 1 but all columns\n",
        "print(x[1,:])\n",
        "# get one element\n",
        "print(\"\")\n",
        "print(x[1,1])\n"
      ],
      "metadata": {
        "colab": {
          "base_uri": "https://localhost:8080/"
        },
        "id": "FBabC-7MYD-3",
        "outputId": "3635c4b8-bdf0-4d52-af5d-427b8f4ccf0a"
      },
      "execution_count": 26,
      "outputs": [
        {
          "output_type": "stream",
          "name": "stdout",
          "text": [
            "tensor([[0.1073, 0.7545, 0.5473],\n",
            "        [0.8550, 0.4545, 0.6535],\n",
            "        [0.0216, 0.6678, 0.3110],\n",
            "        [0.0157, 0.0044, 0.9585],\n",
            "        [0.0710, 0.2799, 0.9646]])\n",
            "\n",
            "tensor([0.1073, 0.8550, 0.0216, 0.0157, 0.0710])\n",
            "\n",
            "tensor([0.8550, 0.4545, 0.6535])\n",
            "\n",
            "tensor(0.4545)\n"
          ]
        }
      ]
    },
    {
      "cell_type": "code",
      "source": [
        "# if i have only one element i can get it with this\n",
        "print(x[1,1].item())"
      ],
      "metadata": {
        "colab": {
          "base_uri": "https://localhost:8080/"
        },
        "id": "es4vTLJdY2f6",
        "outputId": "f72b14ee-e2f6-4f53-a9e1-ff519dc40bc6"
      },
      "execution_count": 27,
      "outputs": [
        {
          "output_type": "stream",
          "name": "stdout",
          "text": [
            "0.45447367429733276\n"
          ]
        }
      ]
    },
    {
      "cell_type": "code",
      "source": [
        "# reshape a tensor\n",
        "x =torch.rand(4,4)\n",
        "print(x)\n",
        "print(\"\")\n",
        "y =x.view(16) # NUMBER OF ELEMENTS MUST BE THE SAME WITH N*M\n",
        "print(y)\n",
        "# automatically detection of one dimension\n",
        "print(\"\")\n",
        "y =x.view(-1,8) # -->2x8\n",
        "print(y.size())\n",
        "\n"
      ],
      "metadata": {
        "colab": {
          "base_uri": "https://localhost:8080/"
        },
        "id": "Vn4wYDcfaJ3n",
        "outputId": "db3d37ce-2997-43b8-b1f9-bb058031f70b"
      },
      "execution_count": 30,
      "outputs": [
        {
          "output_type": "stream",
          "name": "stdout",
          "text": [
            "tensor([[0.8271, 0.9839, 0.9548, 0.4496],\n",
            "        [0.2263, 0.7481, 0.5254, 0.3600],\n",
            "        [0.4618, 0.7221, 0.0458, 0.4798],\n",
            "        [0.6974, 0.3745, 0.1968, 0.6963]])\n",
            "\n",
            "tensor([0.8271, 0.9839, 0.9548, 0.4496, 0.2263, 0.7481, 0.5254, 0.3600, 0.4618,\n",
            "        0.7221, 0.0458, 0.4798, 0.6974, 0.3745, 0.1968, 0.6963])\n",
            "\n",
            "torch.Size([2, 8])\n"
          ]
        }
      ]
    },
    {
      "cell_type": "markdown",
      "source": [
        "**NumPy**\n",
        "converting from tensor to a numpy and vice versa\n"
      ],
      "metadata": {
        "id": "Tn0BOQVloHAc"
      }
    },
    {
      "cell_type": "code",
      "source": [
        "# converting from tensor to a numpy\n",
        "import numpy as np\n",
        "a =torch.ones(5)\n",
        "print(a)\n",
        "print(\"\")\n",
        "b =a.numpy()\n",
        "print(b)\n",
        "print(type(b))\n",
        "#sos\n",
        "#if the tensor is on cpu and we change the tensor also changes the numpy\n",
        "a.add_(1)\n",
        "print(a)\n",
        "print(b)\n"
      ],
      "metadata": {
        "colab": {
          "base_uri": "https://localhost:8080/"
        },
        "id": "QhLuo5yyhHSo",
        "outputId": "11b72d05-c5c4-413b-f131-c15d62b8bdab"
      },
      "execution_count": 32,
      "outputs": [
        {
          "output_type": "stream",
          "name": "stdout",
          "text": [
            "tensor([1., 1., 1., 1., 1.])\n",
            "\n",
            "[1. 1. 1. 1. 1.]\n",
            "<class 'numpy.ndarray'>\n",
            "tensor([2., 2., 2., 2., 2.])\n",
            "[2. 2. 2. 2. 2.]\n"
          ]
        }
      ]
    },
    {
      "cell_type": "code",
      "source": [
        "# converting from numpy to a tensor\n",
        "a =np.ones(5)\n",
        "print(a)\n",
        "print(\"\")\n",
        "b =torch.from_numpy(a)\n",
        "print(b)\n",
        "print(type(b))\n"
      ],
      "metadata": {
        "colab": {
          "base_uri": "https://localhost:8080/"
        },
        "id": "k2y5ASo4iUjv",
        "outputId": "4fc60aba-909e-485a-a224-c10de7331c39"
      },
      "execution_count": 33,
      "outputs": [
        {
          "output_type": "stream",
          "name": "stdout",
          "text": [
            "[1. 1. 1. 1. 1.]\n",
            "\n",
            "tensor([1., 1., 1., 1., 1.], dtype=torch.float64)\n",
            "<class 'torch.Tensor'>\n"
          ]
        }
      ]
    },
    {
      "cell_type": "markdown",
      "source": [
        "GPU support\n",
        "By default all tensors are created on the CPU.But we can also move them to the GPU(if it's available), or create them directly on the GPU."
      ],
      "metadata": {
        "id": "8aUtauK5oc01"
      }
    },
    {
      "cell_type": "code",
      "source": [
        "device = torch.device('cuda' if torch.cuda.is_available() else 'cpu')\n",
        "\n",
        "x = torch.rand(2,2).to(device) # move tensors to GPU device -CPU device\n",
        "#x = x.to('cpu')\n",
        "#x = x.to('cuda')\n",
        "\n",
        "x =torch.rand(2,2, device=device) # or directly crete them on GPU\n",
        "print(x)"
      ],
      "metadata": {
        "colab": {
          "base_uri": "https://localhost:8080/"
        },
        "id": "Hl2R-fTvhZyY",
        "outputId": "4e2a3187-53cd-4a86-c855-7102c1f53f19"
      },
      "execution_count": 37,
      "outputs": [
        {
          "output_type": "stream",
          "name": "stdout",
          "text": [
            "tensor([[0.4101, 0.4172],\n",
            "        [0.6124, 0.7366]])\n"
          ]
        }
      ]
    },
    {
      "cell_type": "markdown",
      "source": [
        "2.Autograd\n",
        "The autograd package provides automatic differentiation for all operations on Tensors.Generally speaking, torch.autograd is an engine for computing the vector -Jacobian product.It computes partiedl derivatives while applying the chain rule.\n",
        "**Set requires_grad =True;**\n",
        ""
      ],
      "metadata": {
        "id": "hzSYJFOq8GMV"
      }
    },
    {
      "cell_type": "code",
      "source": [
        "import torch\n",
        "# requires_grad = True ->tracks all operations on the tensor.\n",
        "x = torch.randn(3,requires_grad=True)\n",
        "y = x+2\n",
        "\n",
        "# y was created as a result of an operation, so it has a grad_fn attribute.\n",
        "# grad_fn:reference a Function that has created the Tensor\n",
        "print(x)\n",
        "print(y)\n",
        "print(y.grad_fn)"
      ],
      "metadata": {
        "colab": {
          "base_uri": "https://localhost:8080/"
        },
        "id": "ZBV8YT1Z8qdv",
        "outputId": "0ed8db10-a576-45c8-99ce-3bd55db2403f"
      },
      "execution_count": 38,
      "outputs": [
        {
          "output_type": "stream",
          "name": "stdout",
          "text": [
            "tensor([-0.8054, -0.6790, -0.0780], requires_grad=True)\n",
            "tensor([1.1946, 1.3210, 1.9220], grad_fn=<AddBackward0>)\n",
            "<AddBackward0 object at 0x7ab963b6afe0>\n"
          ]
        }
      ]
    },
    {
      "cell_type": "code",
      "source": [
        "# do more operations on y\n",
        "z = y*y*3\n",
        "print(z)\n",
        "z = z.mean()\n",
        "print(z)"
      ],
      "metadata": {
        "colab": {
          "base_uri": "https://localhost:8080/"
        },
        "id": "zDtdew9J-J99",
        "outputId": "9b1d6c6c-84b2-483c-cab0-ddf3583fe299"
      },
      "execution_count": 40,
      "outputs": [
        {
          "output_type": "stream",
          "name": "stdout",
          "text": [
            "tensor([ 4.2812,  5.2351, 11.0819], grad_fn=<MulBackward0>)\n",
            "tensor(6.8661, grad_fn=<MeanBackward0>)\n"
          ]
        }
      ]
    },
    {
      "cell_type": "code",
      "source": [
        "# Lets compute the gradients with backpropagation\n",
        "# when we finish our computation we can call. backward() and have all the gradients computed automatically.\n",
        "# The gradient for this tensor will be accumulated into .grad attribute.\n",
        "# It is the partial derivative of the function with respect to the tensor\n",
        "\n",
        "print (x.grad)\n",
        "z.backward()\n",
        "print(x.grad) # dz/dx\n",
        "\n",
        "# Careful!!! backward() accumulates the gradient for this tensor into .grad attribute.\n",
        "# We need to be careful during optimization !!! optimizer.zero_grad() --> empty the gradient results"
      ],
      "metadata": {
        "colab": {
          "base_uri": "https://localhost:8080/"
        },
        "id": "-CxV1Wca-T6k",
        "outputId": "5ca733c8-2106-49df-8a3f-0ec8d0e1bb88"
      },
      "execution_count": 41,
      "outputs": [
        {
          "output_type": "stream",
          "name": "stdout",
          "text": [
            "None\n",
            "tensor([2.3892, 2.6420, 3.8439])\n"
          ]
        }
      ]
    },
    {
      "cell_type": "markdown",
      "source": [
        "**Stop a tensor from tracking history:**\n",
        "For example during the training when we want to update our weights,or after training during ecaluation.These operations should not be part of the gradient computation.To prevent this we can use:\n",
        "\n",
        "\n",
        "*   x.requires_grad_(False)\n",
        "\n",
        "*   x.detach()\n",
        "\n",
        "*   wrap in with torch.no_grad():\n",
        "\n",
        "\n",
        "\n",
        "\n",
        "\n",
        "\n"
      ],
      "metadata": {
        "id": "FoXz5me1CvHX"
      }
    },
    {
      "cell_type": "code",
      "source": [
        "# requires_grad (...) changes an existing flag in-place.\n",
        "a = torch.randn(2,2)\n",
        "print(a)\n",
        "print(\"\")\n",
        "print(a.requires_grad)\n",
        "print(\"\")\n",
        "a.requires_grad_(True)\n",
        "print(a.requires_grad)\n",
        "print(\"\")"
      ],
      "metadata": {
        "colab": {
          "base_uri": "https://localhost:8080/"
        },
        "id": "ENPwxOVvDyms",
        "outputId": "a26d585d-2353-446b-e6ec-338fd420054c"
      },
      "execution_count": 44,
      "outputs": [
        {
          "output_type": "stream",
          "name": "stdout",
          "text": [
            "tensor([[ 1.1682, -0.8116],\n",
            "        [-0.5640, -1.5533]])\n",
            "\n",
            "False\n",
            "\n",
            "True\n",
            "\n"
          ]
        }
      ]
    },
    {
      "cell_type": "code",
      "source": [
        "# detach(): get a new tensor with the same conetnt but no gradient computation:\n",
        "a = torch.randn(2,2,requires_grad=True)\n",
        "b = a.detach()\n",
        "print(a.requires_grad)\n",
        "print(b.requires_grad)\n"
      ],
      "metadata": {
        "colab": {
          "base_uri": "https://localhost:8080/"
        },
        "id": "YWBX4SkpEaBU",
        "outputId": "63c69ea3-7820-44f8-8537-7d9c5c23b65b"
      },
      "execution_count": 46,
      "outputs": [
        {
          "output_type": "stream",
          "name": "stdout",
          "text": [
            "True\n",
            "False\n"
          ]
        }
      ]
    },
    {
      "cell_type": "code",
      "source": [
        "# wrap in 'with torch.no_grad():'\n",
        "a = torch.randn(2,2,requires_grad=True)\n",
        "print(a.requires_grad)\n",
        "print(\"\")\n",
        "with torch.no_grad():\n",
        "  b = a ** 2\n",
        "  print(b.requires_grad)\n",
        ""
      ],
      "metadata": {
        "colab": {
          "base_uri": "https://localhost:8080/"
        },
        "id": "KrEGX8soE-Pb",
        "outputId": "608d6082-fd1c-4c46-ba24-f6a5bd0cb124"
      },
      "execution_count": 48,
      "outputs": [
        {
          "output_type": "stream",
          "name": "stdout",
          "text": [
            "True\n",
            "\n",
            "False\n"
          ]
        }
      ]
    },
    {
      "cell_type": "markdown",
      "source": [
        "**Gradient Descent Autograd**\n",
        "Linear Regression example:\n",
        "# f(x) = w * x +b\n",
        "here: f(x) = 2 * x"
      ],
      "metadata": {
        "id": "sEsIxFxmFk9M"
      }
    },
    {
      "cell_type": "code",
      "source": [
        "import torch\n",
        "# Linear regression\n",
        "# f = w * x + b\n",
        "# here : f = 2 * x\n",
        "X = torch.tensor([1, 2, 3, 3, 5, 6, 7, ], dtype=torch.float32)\n",
        "Y = torch.tensor([2, 4, 6, 8, 10, 12, 14, ], dtype=torch.float32)\n",
        "\n",
        "w = torch.tensor(0.0,dtype=torch.float32, requires_grad=True)\n",
        "\n",
        "# model output\n",
        "def forward(x):\n",
        "  return w * x\n",
        "\n",
        "# loss = MSE\n",
        "def loss(y,y_predicted):\n",
        "  return ((y_predicted-y)**2).mean()\n",
        "\n",
        "X_test = 5.0\n",
        "print(f'Prediction before training: f({X_test}) = {forward(X_test).item():.3f}')\n",
        "\n"
      ],
      "metadata": {
        "colab": {
          "base_uri": "https://localhost:8080/"
        },
        "id": "u7u6PYXMGH4K",
        "outputId": "43783f35-5c97-4fe7-c82a-be445c603718"
      },
      "execution_count": 49,
      "outputs": [
        {
          "output_type": "stream",
          "name": "stdout",
          "text": [
            "Prediction before training: f(5.0) = 0.000\n"
          ]
        }
      ]
    },
    {
      "cell_type": "code",
      "source": [
        "# Training\n",
        "learning_rate = 0.01\n",
        "n_epochs = 100\n",
        "\n",
        "for epoch in range(n_epochs):\n",
        "  # predict = forward pass\n",
        "  y_pred = forward(X)\n",
        "\n",
        "  # loss\n",
        "  l = loss(Y,y_pred)\n",
        "\n",
        "  # calculate\n",
        "  l.backward() # dl/dw\n",
        "\n",
        "  # update weights\n",
        "  with torch.no_grad():\n",
        "    w -= learning_rate * w.grad\n",
        "\n",
        "  # zero gradients--epty the gradients before next iteration\n",
        "  w.grad.zero_()\n",
        "\n",
        "  if (epoch+1) % 10 == 0:\n",
        "    print(f'epoch {epoch+1}: w = {w.item():.3f}, loss = {l.item():.3f}')\n",
        "\n",
        "print(f'Prediction after training: f({X_test}) = {forward(X_test).item():.3f}')"
      ],
      "metadata": {
        "colab": {
          "base_uri": "https://localhost:8080/"
        },
        "id": "g7HfaH95Hgt5",
        "outputId": "7df8c1b3-4d6a-4511-be12-04cffa260f41"
      },
      "execution_count": 54,
      "outputs": [
        {
          "output_type": "stream",
          "name": "stdout",
          "text": [
            "epoch 10: w = 2.045, loss = 0.533\n",
            "epoch 20: w = 2.045, loss = 0.533\n",
            "epoch 30: w = 2.045, loss = 0.533\n",
            "epoch 40: w = 2.045, loss = 0.533\n",
            "epoch 50: w = 2.045, loss = 0.533\n",
            "epoch 60: w = 2.045, loss = 0.533\n",
            "epoch 70: w = 2.045, loss = 0.533\n",
            "epoch 80: w = 2.045, loss = 0.533\n",
            "epoch 90: w = 2.045, loss = 0.533\n",
            "epoch 100: w = 2.045, loss = 0.533\n",
            "Prediction after training: f(5.0) = 10.226\n"
          ]
        }
      ]
    }
  ]
}