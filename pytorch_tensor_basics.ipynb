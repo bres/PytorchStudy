{
  "nbformat": 4,
  "nbformat_minor": 0,
  "metadata": {
    "colab": {
      "provenance": [],
      "authorship_tag": "ABX9TyMKWlZfN0IqW8aA40vR6TCZ",
      "include_colab_link": true
    },
    "kernelspec": {
      "name": "python3",
      "display_name": "Python 3"
    },
    "language_info": {
      "name": "python"
    }
  },
  "cells": [
    {
      "cell_type": "markdown",
      "metadata": {
        "id": "view-in-github",
        "colab_type": "text"
      },
      "source": [
        "<a href=\"https://colab.research.google.com/github/bres/PytorchStudy/blob/main/pytorch_tensor_basics.ipynb\" target=\"_parent\"><img src=\"https://colab.research.google.com/assets/colab-badge.svg\" alt=\"Open In Colab\"/></a>"
      ]
    },
    {
      "cell_type": "code",
      "execution_count": 4,
      "metadata": {
        "id": "tMLmWHk4dQ9M",
        "colab": {
          "base_uri": "https://localhost:8080/"
        },
        "outputId": "a96398dc-7d36-4814-afc5-714297ef45ea"
      },
      "outputs": [
        {
          "output_type": "stream",
          "name": "stdout",
          "text": [
            "tensor([[[2.3778e-14, 0.0000e+00, 2.3168e-14],\n",
            "         [0.0000e+00, 0.0000e+00, 0.0000e+00]],\n",
            "\n",
            "        [[0.0000e+00, 0.0000e+00, 2.3262e-43],\n",
            "         [2.3962e-43, 0.0000e+00, 6.0979e-38]]])\n"
          ]
        }
      ],
      "source": [
        "# Tensors basics\n",
        "import torch\n",
        "\n",
        "#create empty tensor\n",
        "x =torch.empty(2, 2, 3) # 3 dimensions tensor --\n",
        "print(x)"
      ]
    },
    {
      "cell_type": "code",
      "source": [
        "# create a tensor with 2 dimensions with random values\n",
        "x = torch.rand(2, 2)\n",
        "print(x)"
      ],
      "metadata": {
        "colab": {
          "base_uri": "https://localhost:8080/"
        },
        "id": "UdkpuY5WF1ax",
        "outputId": "99a8b67a-38d4-4f4c-8bfc-0fe52d9155c8"
      },
      "execution_count": 5,
      "outputs": [
        {
          "output_type": "stream",
          "name": "stdout",
          "text": [
            "tensor([[0.5397, 0.9463],\n",
            "        [0.9356, 0.9482]])\n"
          ]
        }
      ]
    },
    {
      "cell_type": "code",
      "source": [
        "# create a tensor with zeros\n",
        "x = torch.zeros(2, 2)\n",
        "print(x)"
      ],
      "metadata": {
        "colab": {
          "base_uri": "https://localhost:8080/"
        },
        "id": "o7FxSzXOF5Cl",
        "outputId": "03584fec-a818-4bb6-a762-f66cf319d3c2"
      },
      "execution_count": 6,
      "outputs": [
        {
          "output_type": "stream",
          "name": "stdout",
          "text": [
            "tensor([[0., 0.],\n",
            "        [0., 0.]])\n"
          ]
        }
      ]
    },
    {
      "cell_type": "code",
      "source": [
        "# create a tensor with ones\n",
        "x =torch.ones(2, 2)\n",
        "print(x)"
      ],
      "metadata": {
        "colab": {
          "base_uri": "https://localhost:8080/"
        },
        "id": "M5k6rjvJTeGV",
        "outputId": "ff79ab23-6371-4fe9-af68-bf563ea600d5"
      },
      "execution_count": 7,
      "outputs": [
        {
          "output_type": "stream",
          "name": "stdout",
          "text": [
            "tensor([[1., 1.],\n",
            "        [1., 1.]])\n"
          ]
        }
      ]
    },
    {
      "cell_type": "code",
      "source": [
        "# show data type\n",
        "x = torch.ones(2, 2)\n",
        "print(x.dtype)"
      ],
      "metadata": {
        "colab": {
          "base_uri": "https://localhost:8080/"
        },
        "id": "9HsSIoHzTilm",
        "outputId": "9fb651cb-f15f-4fa5-e342-0fd02ba4a29d"
      },
      "execution_count": 8,
      "outputs": [
        {
          "output_type": "stream",
          "name": "stdout",
          "text": [
            "torch.float32\n"
          ]
        }
      ]
    },
    {
      "cell_type": "code",
      "source": [
        "# change the data tyoe\n",
        "x = torch.ones(2, 2, dtype=torch.int)\n",
        "print(x.dtype)"
      ],
      "metadata": {
        "colab": {
          "base_uri": "https://localhost:8080/"
        },
        "id": "f_20GqYUTvXR",
        "outputId": "185ca928-3787-4104-eb19-7a6c6db8bac8"
      },
      "execution_count": 9,
      "outputs": [
        {
          "output_type": "stream",
          "name": "stdout",
          "text": [
            "torch.int32\n"
          ]
        }
      ]
    },
    {
      "cell_type": "code",
      "source": [
        "# print the size of a tensor\n",
        "x =torch.ones(2, 2)\n",
        "print(x.size())"
      ],
      "metadata": {
        "colab": {
          "base_uri": "https://localhost:8080/"
        },
        "id": "4-bi_DulT5AT",
        "outputId": "77e70f01-1e2f-4899-cea7-9d327fb04e75"
      },
      "execution_count": 10,
      "outputs": [
        {
          "output_type": "stream",
          "name": "stdout",
          "text": [
            "torch.Size([2, 2])\n"
          ]
        }
      ]
    },
    {
      "cell_type": "code",
      "source": [
        "# construct a tensor from data\n",
        "x =torch.tensor((2.5,0.1))\n",
        "print(x)"
      ],
      "metadata": {
        "colab": {
          "base_uri": "https://localhost:8080/"
        },
        "id": "b6RGpc7gUc-n",
        "outputId": "2a79b2a0-c327-450c-a4ad-979dc0fe178f"
      },
      "execution_count": 11,
      "outputs": [
        {
          "output_type": "stream",
          "name": "stdout",
          "text": [
            "tensor([2.5000, 0.1000])\n"
          ]
        }
      ]
    },
    {
      "cell_type": "code",
      "source": [
        "# operations between tensors\n",
        "x =torch.rand(2,2)\n",
        "y= torch.rand(2,2)\n",
        "print(x)\n",
        "print(y)\n",
        "z =x+y\n",
        "print(z)"
      ],
      "metadata": {
        "colab": {
          "base_uri": "https://localhost:8080/"
        },
        "id": "5u29gJugUorN",
        "outputId": "6b9cea0f-1c46-4b2e-afd6-95f3ada02d53"
      },
      "execution_count": 13,
      "outputs": [
        {
          "output_type": "stream",
          "name": "stdout",
          "text": [
            "tensor([[0.3051, 0.0516],\n",
            "        [0.8534, 0.1333]])\n",
            "tensor([[0.5766, 0.1058],\n",
            "        [0.2959, 0.0449]])\n",
            "tensor([[0.8817, 0.1574],\n",
            "        [1.1493, 0.1782]])\n"
          ]
        }
      ]
    },
    {
      "cell_type": "code",
      "source": [
        "# the same thing\n",
        "z =torch.add(x,y)\n",
        "print(z)"
      ],
      "metadata": {
        "colab": {
          "base_uri": "https://localhost:8080/"
        },
        "id": "Yh4G-leJXFwE",
        "outputId": "a3e413f7-87a6-45d5-ab68-2c811afaa7f7"
      },
      "execution_count": 14,
      "outputs": [
        {
          "output_type": "stream",
          "name": "stdout",
          "text": [
            "tensor([[0.8817, 0.1574],\n",
            "        [1.1493, 0.1782]])\n"
          ]
        }
      ]
    },
    {
      "cell_type": "code",
      "source": [
        "# in place addition  operation_ --> in place\n",
        "y.add_(x)\n",
        "print(y)"
      ],
      "metadata": {
        "colab": {
          "base_uri": "https://localhost:8080/"
        },
        "id": "bOLCJELdW-z2",
        "outputId": "c7b6bea9-f00e-4d58-fa44-53aa62550568"
      },
      "execution_count": 15,
      "outputs": [
        {
          "output_type": "stream",
          "name": "stdout",
          "text": [
            "tensor([[0.8817, 0.1574],\n",
            "        [1.1493, 0.1782]])\n"
          ]
        }
      ]
    },
    {
      "cell_type": "code",
      "source": [
        "# subtract tensors\n",
        "z =x-y\n",
        "print(z)"
      ],
      "metadata": {
        "colab": {
          "base_uri": "https://localhost:8080/"
        },
        "id": "MZIeBrxjXYwW",
        "outputId": "f1062ef5-0a36-42e8-c71d-463355ae1445"
      },
      "execution_count": 16,
      "outputs": [
        {
          "output_type": "stream",
          "name": "stdout",
          "text": [
            "tensor([[-0.5766, -0.1058],\n",
            "        [-0.2959, -0.0449]])\n"
          ]
        }
      ]
    },
    {
      "cell_type": "code",
      "source": [
        "# multiplacate tensors\n",
        "z=x*y\n",
        "print(z)"
      ],
      "metadata": {
        "colab": {
          "base_uri": "https://localhost:8080/"
        },
        "id": "-NBjJWgdXsk3",
        "outputId": "c5a29208-9360-4978-a90d-0f76c2a40894"
      },
      "execution_count": 18,
      "outputs": [
        {
          "output_type": "stream",
          "name": "stdout",
          "text": [
            "tensor([[0.2690, 0.0081],\n",
            "        [0.9808, 0.0238]])\n"
          ]
        }
      ]
    },
    {
      "cell_type": "code",
      "source": [
        "# divide tensors\n",
        "z =x /y\n",
        "print(z)"
      ],
      "metadata": {
        "colab": {
          "base_uri": "https://localhost:8080/"
        },
        "id": "bcWnseidXzXf",
        "outputId": "afe97024-0115-49d9-f274-7162f8724d12"
      },
      "execution_count": 19,
      "outputs": [
        {
          "output_type": "stream",
          "name": "stdout",
          "text": [
            "tensor([[0.3460, 0.3279],\n",
            "        [0.7425, 0.7480]])\n"
          ]
        }
      ]
    },
    {
      "cell_type": "code",
      "source": [
        "# slicing operations\n",
        "x = torch.rand(5,3)\n",
        "print(x)\n",
        "print(\"\")\n",
        "# get all rows but the column zero\n",
        "print(x[:,0])\n",
        "print(\"\")\n",
        "# get row 1 but all columns\n",
        "print(x[1,:])\n",
        "# get one element\n",
        "print(\"\")\n",
        "print(x[1,1])\n"
      ],
      "metadata": {
        "colab": {
          "base_uri": "https://localhost:8080/"
        },
        "id": "FBabC-7MYD-3",
        "outputId": "3635c4b8-bdf0-4d52-af5d-427b8f4ccf0a"
      },
      "execution_count": 26,
      "outputs": [
        {
          "output_type": "stream",
          "name": "stdout",
          "text": [
            "tensor([[0.1073, 0.7545, 0.5473],\n",
            "        [0.8550, 0.4545, 0.6535],\n",
            "        [0.0216, 0.6678, 0.3110],\n",
            "        [0.0157, 0.0044, 0.9585],\n",
            "        [0.0710, 0.2799, 0.9646]])\n",
            "\n",
            "tensor([0.1073, 0.8550, 0.0216, 0.0157, 0.0710])\n",
            "\n",
            "tensor([0.8550, 0.4545, 0.6535])\n",
            "\n",
            "tensor(0.4545)\n"
          ]
        }
      ]
    },
    {
      "cell_type": "code",
      "source": [
        "# if i have only one element i can get it with this\n",
        "print(x[1,1].item())"
      ],
      "metadata": {
        "colab": {
          "base_uri": "https://localhost:8080/"
        },
        "id": "es4vTLJdY2f6",
        "outputId": "f72b14ee-e2f6-4f53-a9e1-ff519dc40bc6"
      },
      "execution_count": 27,
      "outputs": [
        {
          "output_type": "stream",
          "name": "stdout",
          "text": [
            "0.45447367429733276\n"
          ]
        }
      ]
    },
    {
      "cell_type": "code",
      "source": [
        "# reshape a tensor\n",
        "x =torch.rand(4,4)\n",
        "print(x)\n",
        "print(\"\")\n",
        "y =x.view(16) # NUMBER OF ELEMENTS MUST BE THE SAME WITH N*M\n",
        "print(y)\n",
        "# automatically detection of one dimension\n",
        "print(\"\")\n",
        "y =x.view(-1,8) # -->2x8\n",
        "print(y.size())\n",
        "\n"
      ],
      "metadata": {
        "colab": {
          "base_uri": "https://localhost:8080/"
        },
        "id": "Vn4wYDcfaJ3n",
        "outputId": "db3d37ce-2997-43b8-b1f9-bb058031f70b"
      },
      "execution_count": 30,
      "outputs": [
        {
          "output_type": "stream",
          "name": "stdout",
          "text": [
            "tensor([[0.8271, 0.9839, 0.9548, 0.4496],\n",
            "        [0.2263, 0.7481, 0.5254, 0.3600],\n",
            "        [0.4618, 0.7221, 0.0458, 0.4798],\n",
            "        [0.6974, 0.3745, 0.1968, 0.6963]])\n",
            "\n",
            "tensor([0.8271, 0.9839, 0.9548, 0.4496, 0.2263, 0.7481, 0.5254, 0.3600, 0.4618,\n",
            "        0.7221, 0.0458, 0.4798, 0.6974, 0.3745, 0.1968, 0.6963])\n",
            "\n",
            "torch.Size([2, 8])\n"
          ]
        }
      ]
    },
    {
      "cell_type": "code",
      "source": [
        "# converting from tensor to a numpy\n",
        "import numpy as np\n",
        "a =torch.ones(5)\n",
        "print(a)\n",
        "print(\"\")\n",
        "b =a.numpy()\n",
        "print(b)\n",
        "print(type(b))\n",
        "#sos\n",
        "#if the tensor is on cpu and we change the tensor also changes the numpy\n",
        "a.add_(1)\n",
        "print(a)\n",
        "print(b)\n"
      ],
      "metadata": {
        "colab": {
          "base_uri": "https://localhost:8080/"
        },
        "id": "QhLuo5yyhHSo",
        "outputId": "11b72d05-c5c4-413b-f131-c15d62b8bdab"
      },
      "execution_count": 32,
      "outputs": [
        {
          "output_type": "stream",
          "name": "stdout",
          "text": [
            "tensor([1., 1., 1., 1., 1.])\n",
            "\n",
            "[1. 1. 1. 1. 1.]\n",
            "<class 'numpy.ndarray'>\n",
            "tensor([2., 2., 2., 2., 2.])\n",
            "[2. 2. 2. 2. 2.]\n"
          ]
        }
      ]
    },
    {
      "cell_type": "code",
      "source": [
        "# converting from numpy to a tensor\n",
        "a =np.ones(5)\n",
        "print(a)\n",
        "print(\"\")\n",
        "b =torch.from_numpy(a)\n",
        "print(b)\n",
        "print(type(b))\n"
      ],
      "metadata": {
        "colab": {
          "base_uri": "https://localhost:8080/"
        },
        "id": "k2y5ASo4iUjv",
        "outputId": "4fc60aba-909e-485a-a224-c10de7331c39"
      },
      "execution_count": 33,
      "outputs": [
        {
          "output_type": "stream",
          "name": "stdout",
          "text": [
            "[1. 1. 1. 1. 1.]\n",
            "\n",
            "tensor([1., 1., 1., 1., 1.], dtype=torch.float64)\n",
            "<class 'torch.Tensor'>\n"
          ]
        }
      ]
    },
    {
      "cell_type": "code",
      "source": [
        "#check for gpu\n",
        "if torch.cuda.is_available():\n",
        "  device =torch.device(\"cuda\")\n",
        "  x =torch.ones(5, device=device)\n",
        "  y =torch.ones(5)\n",
        "  y =y.to(device)\n",
        "  z =x+y\n",
        "  print(z)"
      ],
      "metadata": {
        "id": "Hl2R-fTvhZyY"
      },
      "execution_count": 34,
      "outputs": []
    }
  ]
}